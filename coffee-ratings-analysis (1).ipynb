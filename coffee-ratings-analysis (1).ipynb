{
 "cells": [
  {
   "cell_type": "code",
   "execution_count": null,
   "id": "6d6b49ab-9ca1-47df-b1f4-fffd1da6fb11",
   "metadata": {},
   "outputs": [],
   "source": [
    "import pandas as pd\n",
    "import matplotlib.pyplot as plt\n",
    "\n"
   ]
  },
  {
   "cell_type": "code",
   "execution_count": null,
   "id": "22f8be2d-3830-46a3-a09b-18f3241cd4a8",
   "metadata": {},
   "outputs": [],
   "source": [
    "df = pd.read_csv('https://raw.githubusercontent.com/jldbc/coffee-quality-database/master/data/arabica_data_cleaned.csv')\n"
   ]
  },
  {
   "cell_type": "code",
   "execution_count": null,
   "id": "3b6f3901-e17a-4c76-bd25-5ff2da9f40e5",
   "metadata": {},
   "outputs": [],
   "source": [
    "  %pip install matplotlib\n",
    "  \n"
   ]
  },
  {
   "cell_type": "code",
   "execution_count": null,
   "id": "fa5d07e8-c1d7-4f6a-b9db-9dbb795b42ce",
   "metadata": {},
   "outputs": [],
   "source": [
    "df[['Country.of.Origin', 'Total.Cup.Points']].head()\n"
   ]
  },
  {
   "cell_type": "code",
   "execution_count": null,
   "id": "20438e68-1996-4967-8173-729341ca83cf",
   "metadata": {},
   "outputs": [],
   "source": [
    "df_clean = df[['Country.of.Origin', 'Total.Cup.Points']].dropna()\n"
   ]
  },
  {
   "cell_type": "code",
   "execution_count": null,
   "id": "7da1ca80-bb60-4e9d-8e7e-827f626544ee",
   "metadata": {},
   "outputs": [],
   "source": [
    "avg_ratings = df_clean.groupby('Country.of.Origin')['Total.Cup.Points'].mean().sort_values(ascending=False).head(10)\n",
    "print(avg_ratings)\n"
   ]
  },
  {
   "cell_type": "code",
   "execution_count": null,
   "id": "436e5d86-2872-4c50-adf6-a528cf76dffb",
   "metadata": {},
   "outputs": [],
   "source": [
    "plt.figure(figsize=(10,5))\n",
    "avg_ratings.plot(kind='bar', color='steelblue')\n",
    "plt.title('Top 10 Countries by Average Coffee Rating')\n",
    "plt.xlabel('Country')\n",
    "plt.ylabel('Average Rating')\n",
    "plt.tight_layout()\n",
    "plt.show()\n"
   ]
  },
  {
   "cell_type": "code",
   "execution_count": null,
   "id": "09dd59ad-3088-4d34-8883-eb0fb0b47c68",
   "metadata": {},
   "outputs": [],
   "source": []
  }
 ],
 "metadata": {
  "kernelspec": {
   "display_name": "Python 3 (ipykernel)",
   "language": "python",
   "name": "python3"
  },
  "language_info": {
   "codemirror_mode": {
    "name": "ipython",
    "version": 3
   },
   "file_extension": ".py",
   "mimetype": "text/x-python",
   "name": "python",
   "nbconvert_exporter": "python",
   "pygments_lexer": "ipython3",
   "version": "3.13.3"
  }
 },
 "nbformat": 4,
 "nbformat_minor": 5
}
